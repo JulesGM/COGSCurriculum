{
 "cells": [
  {
   "cell_type": "code",
   "execution_count": 1,
   "metadata": {},
   "outputs": [],
   "source": [
    "import collections\n",
    "import math\n",
    "\n",
    "import main\n",
    "\n",
    "import pandas as pd\n",
    "import transformers"
   ]
  },
  {
   "cell_type": "code",
   "execution_count": 2,
   "metadata": {},
   "outputs": [
    {
     "data": {
      "application/vnd.jupyter.widget-view+json": {
       "model_id": "f79df7c2ab2f428899776c705628b909",
       "version_major": 2,
       "version_minor": 0
      },
      "text/plain": [
       "0ex [00:00, ?ex/s]"
      ]
     },
     "metadata": {},
     "output_type": "display_data"
    },
    {
     "data": {
      "application/vnd.jupyter.widget-view+json": {
       "model_id": "8039b4d10a8c4d92895a79fa8a5bc672",
       "version_major": 2,
       "version_minor": 0
      },
      "text/plain": [
       "0ex [00:00, ?ex/s]"
      ]
     },
     "metadata": {},
     "output_type": "display_data"
    },
    {
     "data": {
      "application/vnd.jupyter.widget-view+json": {
       "model_id": "46147b7fa2fc4b5db784235f65df1bcd",
       "version_major": 2,
       "version_minor": 0
      },
      "text/plain": [
       "0ex [00:00, ?ex/s]"
      ]
     },
     "metadata": {},
     "output_type": "display_data"
    },
    {
     "data": {
      "application/vnd.jupyter.widget-view+json": {
       "model_id": "3d4770db258e42ecb69ecf74b97d8e11",
       "version_major": 2,
       "version_minor": 0
      },
      "text/plain": [
       "0ex [00:00, ?ex/s]"
      ]
     },
     "metadata": {},
     "output_type": "display_data"
    },
    {
     "data": {
      "application/vnd.jupyter.widget-view+json": {
       "model_id": "1647b5c6d3b043dc8c0cf43940ae62ad",
       "version_major": 2,
       "version_minor": 0
      },
      "text/plain": [
       "0ex [00:00, ?ex/s]"
      ]
     },
     "metadata": {},
     "output_type": "display_data"
    },
    {
     "data": {
      "application/vnd.jupyter.widget-view+json": {
       "model_id": "c2d5e060331346188747a151d623f2be",
       "version_major": 2,
       "version_minor": 0
      },
      "text/plain": [
       "0ex [00:00, ?ex/s]"
      ]
     },
     "metadata": {},
     "output_type": "display_data"
    }
   ],
   "source": [
    "main.maybe_download(main.TRAIN_PATH, main.TRAIN_URL, main.TRAIN_MD5)\n",
    "main.maybe_download(main.EVAL_PATH,  main.EVAL_URL,  main.EVAL_MD5 )\n",
    "main.maybe_download(main.GEN_PATH,   main.GEN_URL,   main.GEN_MD5  )\n",
    "\n",
    "model_name = main.MODEL_NAME\n",
    "model     = transformers.AutoModelForSeq2SeqLM.from_pretrained(model_name,)\n",
    "tokenizer = transformers.AutoTokenizer.from_pretrained(model_name)\n",
    "\n",
    "train_x, train_y = main.load_dataset(main.TRAIN_PATH)\n",
    "eval_x,  eval_y  = main.load_dataset(main.EVAL_PATH )\n",
    "gen_x,   gen_y   = main.load_dataset(main.GEN_PATH  )\n",
    "\n",
    "train_ds = main.prepare_ds(tokenizer, train_x, train_y)\n",
    "eval_ds  = main.prepare_ds(tokenizer, eval_x,  eval_y )\n",
    "gen_ds   = main.prepare_ds(tokenizer, gen_x,   gen_y  )"
   ]
  },
  {
   "cell_type": "code",
   "execution_count": 3,
   "metadata": {},
   "outputs": [
    {
     "data": {
      "application/vnd.jupyter.widget-view+json": {
       "model_id": "d5946ef38ece432fbb276e0d89311db7",
       "version_major": 2,
       "version_minor": 0
      },
      "text/plain": [
       "0ex [00:00, ?ex/s]"
      ]
     },
     "metadata": {},
     "output_type": "display_data"
    }
   ],
   "source": [
    "with_lengths = train_ds.map(lambda x: dict(length=len(x[\"input_ids\"])))\n",
    "with_lengths = with_lengths.sort(column=\"length\")"
   ]
  },
  {
   "cell_type": "code",
   "execution_count": 4,
   "metadata": {},
   "outputs": [],
   "source": [
    "num_clusters = 5\n",
    "cluster_size = math.ceil(len(with_lengths) / num_clusters)\n",
    "\n",
    "clusters = [\n",
    "            pd.DataFrame(with_lengths[i * cluster_size: (i + 1) * cluster_size]).to_dict(\"records\") \n",
    "            for i in range(num_clusters)\n",
    "]"
   ]
  },
  {
   "cell_type": "code",
   "execution_count": 5,
   "metadata": {},
   "outputs": [
    {
     "name": "stdout",
     "output_type": "stream",
     "text": [
      "24155\n",
      "Cluster 0 has 4831 examples\n",
      "\t- 3 : 65\n",
      "\t- 4 : 61\n",
      "\t- 5 : 160\n",
      "\t- 6 : 1523\n",
      "\t- 7 : 2393\n",
      "\t- 8 : 629\n",
      "\n",
      "Cluster 1 has 4831 examples\n",
      "\t- 8 : 2218\n",
      "\t- 9 : 2613\n",
      "\n",
      "Cluster 2 has 4831 examples\n",
      "\t- 9 : 336\n",
      "\t- 10 : 3798\n",
      "\t- 11 : 697\n",
      "\n",
      "Cluster 3 has 4831 examples\n",
      "\t- 11 : 2760\n",
      "\t- 12 : 2071\n",
      "\n",
      "Cluster 4 has 4831 examples\n",
      "\t- 12 : 240\n",
      "\t- 13 : 1634\n",
      "\t- 14 : 1321\n",
      "\t- 15 : 799\n",
      "\t- 16 : 423\n",
      "\t- 17 : 192\n",
      "\t- 18 : 120\n",
      "\t- 19 : 61\n",
      "\t- 20 : 21\n",
      "\t- 21 : 13\n",
      "\t- 22 : 5\n",
      "\t- 23 : 1\n",
      "\t- 25 : 1\n",
      "\n"
     ]
    }
   ],
   "source": [
    "print(len(with_lengths))\n",
    "for i, cluster in enumerate(clusters):\n",
    "    print(f\"Cluster {i} has {len(cluster)} examples\")\n",
    "    counter = collections.Counter(x[\"length\"] for x in cluster)\n",
    "    for k, v in sorted(counter.items(), key=lambda x: x[0]):\n",
    "        print(f\"\\t- {k} : {v}\")\n",
    "    print(\"\")"
   ]
  },
  {
   "cell_type": "code",
   "execution_count": 6,
   "metadata": {},
   "outputs": [
    {
     "data": {
      "text/plain": [
       "24155"
      ]
     },
     "execution_count": 6,
     "metadata": {},
     "output_type": "execute_result"
    }
   ],
   "source": [
    "len(train_ds)\n"
   ]
  },
  {
   "cell_type": "code",
   "execution_count": null,
   "metadata": {},
   "outputs": [],
   "source": []
  }
 ],
 "metadata": {
  "interpreter": {
   "hash": "46daadc73974f0324ecc1592e5131128499dc93a3a1cbadf14a4773500af3ac4"
  },
  "kernelspec": {
   "display_name": "Python 3.9.5 64-bit",
   "language": "python",
   "name": "python3"
  },
  "language_info": {
   "codemirror_mode": {
    "name": "ipython",
    "version": 3
   },
   "file_extension": ".py",
   "mimetype": "text/x-python",
   "name": "python",
   "nbconvert_exporter": "python",
   "pygments_lexer": "ipython3",
   "version": "3.9.5"
  },
  "orig_nbformat": 4
 },
 "nbformat": 4,
 "nbformat_minor": 2
}
