{
 "cells": [
  {
   "cell_type": "code",
   "execution_count": 1,
   "metadata": {},
   "outputs": [],
   "source": [
    "from main import *\n",
    "import torch"
   ]
  },
  {
   "cell_type": "code",
   "execution_count": 6,
   "metadata": {},
   "outputs": [
    {
     "data": {
      "application/vnd.jupyter.widget-view+json": {
       "model_id": "c1684aa37bd14d0d82a838275da26c7f",
       "version_major": 2,
       "version_minor": 0
      },
      "text/plain": [
       "0ex [00:00, ?ex/s]"
      ]
     },
     "metadata": {},
     "output_type": "display_data"
    },
    {
     "data": {
      "application/vnd.jupyter.widget-view+json": {
       "model_id": "962a9559f23b4f7087858f30f4bd379d",
       "version_major": 2,
       "version_minor": 0
      },
      "text/plain": [
       "0ex [00:00, ?ex/s]"
      ]
     },
     "metadata": {},
     "output_type": "display_data"
    },
    {
     "data": {
      "application/vnd.jupyter.widget-view+json": {
       "model_id": "3534773e511b44398463ac55617e87d4",
       "version_major": 2,
       "version_minor": 0
      },
      "text/plain": [
       "0ex [00:00, ?ex/s]"
      ]
     },
     "metadata": {},
     "output_type": "display_data"
    },
    {
     "data": {
      "application/vnd.jupyter.widget-view+json": {
       "model_id": "73b29128eb5a4123b233f30c2f64ce7a",
       "version_major": 2,
       "version_minor": 0
      },
      "text/plain": [
       "0ex [00:00, ?ex/s]"
      ]
     },
     "metadata": {},
     "output_type": "display_data"
    },
    {
     "data": {
      "application/vnd.jupyter.widget-view+json": {
       "model_id": "f8fb0a6d0a704533a3f28ddeba26fa4b",
       "version_major": 2,
       "version_minor": 0
      },
      "text/plain": [
       "0ex [00:00, ?ex/s]"
      ]
     },
     "metadata": {},
     "output_type": "display_data"
    },
    {
     "data": {
      "application/vnd.jupyter.widget-view+json": {
       "model_id": "eab5013587df4a9bae80dc45fee87149",
       "version_major": 2,
       "version_minor": 0
      },
      "text/plain": [
       "0ex [00:00, ?ex/s]"
      ]
     },
     "metadata": {},
     "output_type": "display_data"
    }
   ],
   "source": [
    "model_name = \"facebook/bart-base\"\n",
    "tokenizer = transformers.AutoTokenizer.from_pretrained(model_name)\n",
    "\n",
    "train_x, train_y = load_dataset(TRAIN_PATH, tokenizer)\n",
    "eval_x, eval_y =   load_dataset(EVAL_PATH, tokenizer)\n",
    "gen_x, gen_y =     load_dataset(GEN_PATH, tokenizer)\n",
    "\n",
    "train_ds = prepare_ds(tokenizer, train_x, train_y)\n",
    "eval_ds =  prepare_ds(tokenizer, eval_x, eval_y)\n",
    "gen_ds =   prepare_ds(tokenizer, gen_x, gen_y)"
   ]
  },
  {
   "cell_type": "code",
   "execution_count": 14,
   "metadata": {},
   "outputs": [
    {
     "data": {
      "text/plain": [
       "{'input_ids': [0, 33531, 3833, 7, 7142, 479, 2],\n",
       " 'attention_mask': [1, 1, 1, 1, 1, 1, 1],\n",
       " 'labels': [0,\n",
       "  24656,\n",
       "  479,\n",
       "  2936,\n",
       "  36,\n",
       "  3023,\n",
       "  18134,\n",
       "  112,\n",
       "  2156,\n",
       "  2897,\n",
       "  4839,\n",
       "  4248,\n",
       "  10557,\n",
       "  479,\n",
       "  3023,\n",
       "  11828,\n",
       "  36,\n",
       "  3023,\n",
       "  18134,\n",
       "  112,\n",
       "  2156,\n",
       "  3023,\n",
       "  18134,\n",
       "  155,\n",
       "  4839,\n",
       "  4248,\n",
       "  7142,\n",
       "  479,\n",
       "  2936,\n",
       "  36,\n",
       "  3023,\n",
       "  18134,\n",
       "  155,\n",
       "  2156,\n",
       "  2897,\n",
       "  4839,\n",
       "  2]}"
      ]
     },
     "execution_count": 14,
     "metadata": {},
     "output_type": "execute_result"
    }
   ],
   "source": [
    "train_ds.shuffle()[0]"
   ]
  },
  {
   "cell_type": "code",
   "execution_count": null,
   "metadata": {},
   "outputs": [],
   "source": []
  }
 ],
 "metadata": {
  "interpreter": {
   "hash": "46daadc73974f0324ecc1592e5131128499dc93a3a1cbadf14a4773500af3ac4"
  },
  "kernelspec": {
   "display_name": "Python 3.9.5 64-bit",
   "language": "python",
   "name": "python3"
  },
  "language_info": {
   "codemirror_mode": {
    "name": "ipython",
    "version": 3
   },
   "file_extension": ".py",
   "mimetype": "text/x-python",
   "name": "python",
   "nbconvert_exporter": "python",
   "pygments_lexer": "ipython3",
   "version": "3.9.5"
  },
  "orig_nbformat": 4
 },
 "nbformat": 4,
 "nbformat_minor": 2
}
